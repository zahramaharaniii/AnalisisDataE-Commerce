{
  "nbformat": 4,
  "nbformat_minor": 0,
  "metadata": {
    "colab": {
      "provenance": []
    },
    "kernelspec": {
      "name": "python3",
      "display_name": "Python 3"
    },
    "language_info": {
      "name": "python"
    }
  },
  "cells": [
    {
      "cell_type": "markdown",
      "source": [
        "# **Analisis Data E-Commerce**\n",
        "###Studi Kasus : Analisis Menggunakan Dataset TheLook E-Commerce\n",
        "\n",
        "\n",
        "\n",
        "**Pertanyaan bisnis yang akan dijawab:**\n",
        "\n",
        "1. Berapa total pendapatan TheLook Ecommerce yang diterima?\n",
        "2. Berapa jumlah customer yang dimiliki oleh TheLook Ecommerce?\n",
        "3. Berapa jumlah order yang dimiliki oleh TheLook Ecommerce?\n",
        "4. Berapa jumlah lost order opportunity yang dimliki TheLook Ecommerce?\n",
        "5. Bagaimana tren pendapatan pertahun yang dimiliki TheLook Ecommerce?\n",
        "6. Bagaimana performance traffic source yang dimiliki oleh TheLook Ecommerce?\n",
        "7. Apa top 5 product category berdasarkan jumlah order TheLook Ecommerce?\n",
        "8. Apa top 5 negara berdasarkan hasil pendapatan TheLook Ecommerce?"
      ],
      "metadata": {
        "id": "4VSLvSaHrQj9"
      }
    },
    {
      "cell_type": "code",
      "source": [
        "# Import data\n",
        "import pandas as pd\n",
        "ecom = pd.read_csv('/Dataset E-Commerce.csv')\n",
        "ecom"
      ],
      "metadata": {
        "colab": {
          "base_uri": "https://localhost:8080/",
          "height": 1000
        },
        "id": "05-DkcSu_Ipv",
        "outputId": "dd02d5e3-28ed-45ce-a29e-c7e71f43a967"
      },
      "execution_count": 23,
      "outputs": [
        {
          "output_type": "execute_result",
          "data": {
            "text/plain": [
              "          id         country             nama                       email  \\\n",
              "0       9265          Brasil    Eric Phillips    ericphillips@example.org   \n",
              "1       9265          Brasil    Eric Phillips    ericphillips@example.org   \n",
              "2       9265          Brasil    Eric Phillips    ericphillips@example.org   \n",
              "3       9265          Brasil    Eric Phillips    ericphillips@example.org   \n",
              "4      13554          Brasil     Brett Flores     brettflores@example.org   \n",
              "...      ...             ...              ...                         ...   \n",
              "42032  88693  United Kingdom  Bradley Johnson  bradleyjohnson@example.org   \n",
              "42033  98575  United Kingdom  Alexandra Adams  alexandraadams@example.net   \n",
              "42034  98575  United Kingdom  Alexandra Adams  alexandraadams@example.net   \n",
              "42035   7021  United Kingdom    Rebecca Moore    rebeccamoore@example.com   \n",
              "42036   7021  United Kingdom    Rebecca Moore    rebeccamoore@example.com   \n",
              "\n",
              "       order_id  order_date traffic_source               category_product  \\\n",
              "0         11630  2022-12-31         Search                 Sleep & Lounge   \n",
              "1         11630  2022-12-31         Search  Fashion Hoodies & Sweatshirts   \n",
              "2         11630  2022-12-31         Search            Suits & Sport Coats   \n",
              "3         11630  2022-12-31         Search              Outerwear & Coats   \n",
              "4         17026  2022-12-18          Email                          Socks   \n",
              "...         ...         ...            ...                            ...   \n",
              "42032    111077  2022-03-04         Search                    Tops & Tees   \n",
              "42033    123259  2024-04-02         Search                    Tops & Tees   \n",
              "42034    123258  2022-02-07         Search                      Maternity   \n",
              "42035      8824  2024-04-26        Organic                    Tops & Tees   \n",
              "42036      8823  2023-12-23        Organic  Fashion Hoodies & Sweatshirts   \n",
              "\n",
              "                                            nama_product department_product  \\\n",
              "0           Tommy Bahama Men's Cotton Modal V Neck Shirt                Men   \n",
              "1      Ed Hardy Mens Smoking Brad Platinum Zip Up Hoo...                Men   \n",
              "2      Men's Single Breasted Two Button Olive Dress Suit                Men   \n",
              "3                          Arc'teryx Men's Atom SV Hoody                Men   \n",
              "4       Fruit of the Loom Men's 6-Pack Cushion Crew Sock                Men   \n",
              "...                                                  ...                ...   \n",
              "42032  Harriton Men's 6.5 oz. Ringspun Cotton Pique S...                Men   \n",
              "42033            Lucky Brand Women's Plus-Size Lexie Top              Women   \n",
              "42034     Juicy Couture Maternity : Velour Pants - Regal              Women   \n",
              "42035  Lucky Brand Women's Plus-Size Paisley Fux Wrap...              Women   \n",
              "42036  Gold Clear Fleur De Lis Wing Rhinestones Black...              Women   \n",
              "\n",
              "                   brand  age gender status_order registered_date  revenue  \n",
              "0           Tommy Bahama   60      M      Shipped      2022-09-10    100.0  \n",
              "1               Ed Hardy   60      M      Shipped      2022-09-10    160.0  \n",
              "2                Bolzano   60      M      Shipped      2022-09-10    280.0  \n",
              "3              Arc'teryx   60      M      Shipped      2022-09-10   1036.0  \n",
              "4      Fruit of the Loom   50      M    Cancelled      2019-09-08     12.0  \n",
              "...                  ...  ...    ...          ...             ...      ...  \n",
              "42032           Harriton   69      M      Shipped      2020-05-05     24.0  \n",
              "42033        Lucky Brand   44      F    Cancelled      2020-10-29     60.0  \n",
              "42034      Juicy Couture   44      F      Shipped      2020-10-29    100.0  \n",
              "42035        Lucky Brand   35      F     Complete      2023-10-25     60.0  \n",
              "42036       stonepowerss   35      F   Processing      2023-10-25     60.0  \n",
              "\n",
              "[42037 rows x 16 columns]"
            ],
            "text/html": [
              "\n",
              "  <div id=\"df-3d81fc5d-4e88-46b6-b2f9-79108c6666df\" class=\"colab-df-container\">\n",
              "    <div>\n",
              "<style scoped>\n",
              "    .dataframe tbody tr th:only-of-type {\n",
              "        vertical-align: middle;\n",
              "    }\n",
              "\n",
              "    .dataframe tbody tr th {\n",
              "        vertical-align: top;\n",
              "    }\n",
              "\n",
              "    .dataframe thead th {\n",
              "        text-align: right;\n",
              "    }\n",
              "</style>\n",
              "<table border=\"1\" class=\"dataframe\">\n",
              "  <thead>\n",
              "    <tr style=\"text-align: right;\">\n",
              "      <th></th>\n",
              "      <th>id</th>\n",
              "      <th>country</th>\n",
              "      <th>nama</th>\n",
              "      <th>email</th>\n",
              "      <th>order_id</th>\n",
              "      <th>order_date</th>\n",
              "      <th>traffic_source</th>\n",
              "      <th>category_product</th>\n",
              "      <th>nama_product</th>\n",
              "      <th>department_product</th>\n",
              "      <th>brand</th>\n",
              "      <th>age</th>\n",
              "      <th>gender</th>\n",
              "      <th>status_order</th>\n",
              "      <th>registered_date</th>\n",
              "      <th>revenue</th>\n",
              "    </tr>\n",
              "  </thead>\n",
              "  <tbody>\n",
              "    <tr>\n",
              "      <th>0</th>\n",
              "      <td>9265</td>\n",
              "      <td>Brasil</td>\n",
              "      <td>Eric Phillips</td>\n",
              "      <td>ericphillips@example.org</td>\n",
              "      <td>11630</td>\n",
              "      <td>2022-12-31</td>\n",
              "      <td>Search</td>\n",
              "      <td>Sleep &amp; Lounge</td>\n",
              "      <td>Tommy Bahama Men's Cotton Modal V Neck Shirt</td>\n",
              "      <td>Men</td>\n",
              "      <td>Tommy Bahama</td>\n",
              "      <td>60</td>\n",
              "      <td>M</td>\n",
              "      <td>Shipped</td>\n",
              "      <td>2022-09-10</td>\n",
              "      <td>100.0</td>\n",
              "    </tr>\n",
              "    <tr>\n",
              "      <th>1</th>\n",
              "      <td>9265</td>\n",
              "      <td>Brasil</td>\n",
              "      <td>Eric Phillips</td>\n",
              "      <td>ericphillips@example.org</td>\n",
              "      <td>11630</td>\n",
              "      <td>2022-12-31</td>\n",
              "      <td>Search</td>\n",
              "      <td>Fashion Hoodies &amp; Sweatshirts</td>\n",
              "      <td>Ed Hardy Mens Smoking Brad Platinum Zip Up Hoo...</td>\n",
              "      <td>Men</td>\n",
              "      <td>Ed Hardy</td>\n",
              "      <td>60</td>\n",
              "      <td>M</td>\n",
              "      <td>Shipped</td>\n",
              "      <td>2022-09-10</td>\n",
              "      <td>160.0</td>\n",
              "    </tr>\n",
              "    <tr>\n",
              "      <th>2</th>\n",
              "      <td>9265</td>\n",
              "      <td>Brasil</td>\n",
              "      <td>Eric Phillips</td>\n",
              "      <td>ericphillips@example.org</td>\n",
              "      <td>11630</td>\n",
              "      <td>2022-12-31</td>\n",
              "      <td>Search</td>\n",
              "      <td>Suits &amp; Sport Coats</td>\n",
              "      <td>Men's Single Breasted Two Button Olive Dress Suit</td>\n",
              "      <td>Men</td>\n",
              "      <td>Bolzano</td>\n",
              "      <td>60</td>\n",
              "      <td>M</td>\n",
              "      <td>Shipped</td>\n",
              "      <td>2022-09-10</td>\n",
              "      <td>280.0</td>\n",
              "    </tr>\n",
              "    <tr>\n",
              "      <th>3</th>\n",
              "      <td>9265</td>\n",
              "      <td>Brasil</td>\n",
              "      <td>Eric Phillips</td>\n",
              "      <td>ericphillips@example.org</td>\n",
              "      <td>11630</td>\n",
              "      <td>2022-12-31</td>\n",
              "      <td>Search</td>\n",
              "      <td>Outerwear &amp; Coats</td>\n",
              "      <td>Arc'teryx Men's Atom SV Hoody</td>\n",
              "      <td>Men</td>\n",
              "      <td>Arc'teryx</td>\n",
              "      <td>60</td>\n",
              "      <td>M</td>\n",
              "      <td>Shipped</td>\n",
              "      <td>2022-09-10</td>\n",
              "      <td>1036.0</td>\n",
              "    </tr>\n",
              "    <tr>\n",
              "      <th>4</th>\n",
              "      <td>13554</td>\n",
              "      <td>Brasil</td>\n",
              "      <td>Brett Flores</td>\n",
              "      <td>brettflores@example.org</td>\n",
              "      <td>17026</td>\n",
              "      <td>2022-12-18</td>\n",
              "      <td>Email</td>\n",
              "      <td>Socks</td>\n",
              "      <td>Fruit of the Loom Men's 6-Pack Cushion Crew Sock</td>\n",
              "      <td>Men</td>\n",
              "      <td>Fruit of the Loom</td>\n",
              "      <td>50</td>\n",
              "      <td>M</td>\n",
              "      <td>Cancelled</td>\n",
              "      <td>2019-09-08</td>\n",
              "      <td>12.0</td>\n",
              "    </tr>\n",
              "    <tr>\n",
              "      <th>...</th>\n",
              "      <td>...</td>\n",
              "      <td>...</td>\n",
              "      <td>...</td>\n",
              "      <td>...</td>\n",
              "      <td>...</td>\n",
              "      <td>...</td>\n",
              "      <td>...</td>\n",
              "      <td>...</td>\n",
              "      <td>...</td>\n",
              "      <td>...</td>\n",
              "      <td>...</td>\n",
              "      <td>...</td>\n",
              "      <td>...</td>\n",
              "      <td>...</td>\n",
              "      <td>...</td>\n",
              "      <td>...</td>\n",
              "    </tr>\n",
              "    <tr>\n",
              "      <th>42032</th>\n",
              "      <td>88693</td>\n",
              "      <td>United Kingdom</td>\n",
              "      <td>Bradley Johnson</td>\n",
              "      <td>bradleyjohnson@example.org</td>\n",
              "      <td>111077</td>\n",
              "      <td>2022-03-04</td>\n",
              "      <td>Search</td>\n",
              "      <td>Tops &amp; Tees</td>\n",
              "      <td>Harriton Men's 6.5 oz. Ringspun Cotton Pique S...</td>\n",
              "      <td>Men</td>\n",
              "      <td>Harriton</td>\n",
              "      <td>69</td>\n",
              "      <td>M</td>\n",
              "      <td>Shipped</td>\n",
              "      <td>2020-05-05</td>\n",
              "      <td>24.0</td>\n",
              "    </tr>\n",
              "    <tr>\n",
              "      <th>42033</th>\n",
              "      <td>98575</td>\n",
              "      <td>United Kingdom</td>\n",
              "      <td>Alexandra Adams</td>\n",
              "      <td>alexandraadams@example.net</td>\n",
              "      <td>123259</td>\n",
              "      <td>2024-04-02</td>\n",
              "      <td>Search</td>\n",
              "      <td>Tops &amp; Tees</td>\n",
              "      <td>Lucky Brand Women's Plus-Size Lexie Top</td>\n",
              "      <td>Women</td>\n",
              "      <td>Lucky Brand</td>\n",
              "      <td>44</td>\n",
              "      <td>F</td>\n",
              "      <td>Cancelled</td>\n",
              "      <td>2020-10-29</td>\n",
              "      <td>60.0</td>\n",
              "    </tr>\n",
              "    <tr>\n",
              "      <th>42034</th>\n",
              "      <td>98575</td>\n",
              "      <td>United Kingdom</td>\n",
              "      <td>Alexandra Adams</td>\n",
              "      <td>alexandraadams@example.net</td>\n",
              "      <td>123258</td>\n",
              "      <td>2022-02-07</td>\n",
              "      <td>Search</td>\n",
              "      <td>Maternity</td>\n",
              "      <td>Juicy Couture Maternity : Velour Pants - Regal</td>\n",
              "      <td>Women</td>\n",
              "      <td>Juicy Couture</td>\n",
              "      <td>44</td>\n",
              "      <td>F</td>\n",
              "      <td>Shipped</td>\n",
              "      <td>2020-10-29</td>\n",
              "      <td>100.0</td>\n",
              "    </tr>\n",
              "    <tr>\n",
              "      <th>42035</th>\n",
              "      <td>7021</td>\n",
              "      <td>United Kingdom</td>\n",
              "      <td>Rebecca Moore</td>\n",
              "      <td>rebeccamoore@example.com</td>\n",
              "      <td>8824</td>\n",
              "      <td>2024-04-26</td>\n",
              "      <td>Organic</td>\n",
              "      <td>Tops &amp; Tees</td>\n",
              "      <td>Lucky Brand Women's Plus-Size Paisley Fux Wrap...</td>\n",
              "      <td>Women</td>\n",
              "      <td>Lucky Brand</td>\n",
              "      <td>35</td>\n",
              "      <td>F</td>\n",
              "      <td>Complete</td>\n",
              "      <td>2023-10-25</td>\n",
              "      <td>60.0</td>\n",
              "    </tr>\n",
              "    <tr>\n",
              "      <th>42036</th>\n",
              "      <td>7021</td>\n",
              "      <td>United Kingdom</td>\n",
              "      <td>Rebecca Moore</td>\n",
              "      <td>rebeccamoore@example.com</td>\n",
              "      <td>8823</td>\n",
              "      <td>2023-12-23</td>\n",
              "      <td>Organic</td>\n",
              "      <td>Fashion Hoodies &amp; Sweatshirts</td>\n",
              "      <td>Gold Clear Fleur De Lis Wing Rhinestones Black...</td>\n",
              "      <td>Women</td>\n",
              "      <td>stonepowerss</td>\n",
              "      <td>35</td>\n",
              "      <td>F</td>\n",
              "      <td>Processing</td>\n",
              "      <td>2023-10-25</td>\n",
              "      <td>60.0</td>\n",
              "    </tr>\n",
              "  </tbody>\n",
              "</table>\n",
              "<p>42037 rows × 16 columns</p>\n",
              "</div>\n",
              "    <div class=\"colab-df-buttons\">\n",
              "\n",
              "  <div class=\"colab-df-container\">\n",
              "    <button class=\"colab-df-convert\" onclick=\"convertToInteractive('df-3d81fc5d-4e88-46b6-b2f9-79108c6666df')\"\n",
              "            title=\"Convert this dataframe to an interactive table.\"\n",
              "            style=\"display:none;\">\n",
              "\n",
              "  <svg xmlns=\"http://www.w3.org/2000/svg\" height=\"24px\" viewBox=\"0 -960 960 960\">\n",
              "    <path d=\"M120-120v-720h720v720H120Zm60-500h600v-160H180v160Zm220 220h160v-160H400v160Zm0 220h160v-160H400v160ZM180-400h160v-160H180v160Zm440 0h160v-160H620v160ZM180-180h160v-160H180v160Zm440 0h160v-160H620v160Z\"/>\n",
              "  </svg>\n",
              "    </button>\n",
              "\n",
              "  <style>\n",
              "    .colab-df-container {\n",
              "      display:flex;\n",
              "      gap: 12px;\n",
              "    }\n",
              "\n",
              "    .colab-df-convert {\n",
              "      background-color: #E8F0FE;\n",
              "      border: none;\n",
              "      border-radius: 50%;\n",
              "      cursor: pointer;\n",
              "      display: none;\n",
              "      fill: #1967D2;\n",
              "      height: 32px;\n",
              "      padding: 0 0 0 0;\n",
              "      width: 32px;\n",
              "    }\n",
              "\n",
              "    .colab-df-convert:hover {\n",
              "      background-color: #E2EBFA;\n",
              "      box-shadow: 0px 1px 2px rgba(60, 64, 67, 0.3), 0px 1px 3px 1px rgba(60, 64, 67, 0.15);\n",
              "      fill: #174EA6;\n",
              "    }\n",
              "\n",
              "    .colab-df-buttons div {\n",
              "      margin-bottom: 4px;\n",
              "    }\n",
              "\n",
              "    [theme=dark] .colab-df-convert {\n",
              "      background-color: #3B4455;\n",
              "      fill: #D2E3FC;\n",
              "    }\n",
              "\n",
              "    [theme=dark] .colab-df-convert:hover {\n",
              "      background-color: #434B5C;\n",
              "      box-shadow: 0px 1px 3px 1px rgba(0, 0, 0, 0.15);\n",
              "      filter: drop-shadow(0px 1px 2px rgba(0, 0, 0, 0.3));\n",
              "      fill: #FFFFFF;\n",
              "    }\n",
              "  </style>\n",
              "\n",
              "    <script>\n",
              "      const buttonEl =\n",
              "        document.querySelector('#df-3d81fc5d-4e88-46b6-b2f9-79108c6666df button.colab-df-convert');\n",
              "      buttonEl.style.display =\n",
              "        google.colab.kernel.accessAllowed ? 'block' : 'none';\n",
              "\n",
              "      async function convertToInteractive(key) {\n",
              "        const element = document.querySelector('#df-3d81fc5d-4e88-46b6-b2f9-79108c6666df');\n",
              "        const dataTable =\n",
              "          await google.colab.kernel.invokeFunction('convertToInteractive',\n",
              "                                                    [key], {});\n",
              "        if (!dataTable) return;\n",
              "\n",
              "        const docLinkHtml = 'Like what you see? Visit the ' +\n",
              "          '<a target=\"_blank\" href=https://colab.research.google.com/notebooks/data_table.ipynb>data table notebook</a>'\n",
              "          + ' to learn more about interactive tables.';\n",
              "        element.innerHTML = '';\n",
              "        dataTable['output_type'] = 'display_data';\n",
              "        await google.colab.output.renderOutput(dataTable, element);\n",
              "        const docLink = document.createElement('div');\n",
              "        docLink.innerHTML = docLinkHtml;\n",
              "        element.appendChild(docLink);\n",
              "      }\n",
              "    </script>\n",
              "  </div>\n",
              "\n",
              "\n",
              "<div id=\"df-90fd78af-4687-4de5-bbac-cf19b7938734\">\n",
              "  <button class=\"colab-df-quickchart\" onclick=\"quickchart('df-90fd78af-4687-4de5-bbac-cf19b7938734')\"\n",
              "            title=\"Suggest charts\"\n",
              "            style=\"display:none;\">\n",
              "\n",
              "<svg xmlns=\"http://www.w3.org/2000/svg\" height=\"24px\"viewBox=\"0 0 24 24\"\n",
              "     width=\"24px\">\n",
              "    <g>\n",
              "        <path d=\"M19 3H5c-1.1 0-2 .9-2 2v14c0 1.1.9 2 2 2h14c1.1 0 2-.9 2-2V5c0-1.1-.9-2-2-2zM9 17H7v-7h2v7zm4 0h-2V7h2v10zm4 0h-2v-4h2v4z\"/>\n",
              "    </g>\n",
              "</svg>\n",
              "  </button>\n",
              "\n",
              "<style>\n",
              "  .colab-df-quickchart {\n",
              "      --bg-color: #E8F0FE;\n",
              "      --fill-color: #1967D2;\n",
              "      --hover-bg-color: #E2EBFA;\n",
              "      --hover-fill-color: #174EA6;\n",
              "      --disabled-fill-color: #AAA;\n",
              "      --disabled-bg-color: #DDD;\n",
              "  }\n",
              "\n",
              "  [theme=dark] .colab-df-quickchart {\n",
              "      --bg-color: #3B4455;\n",
              "      --fill-color: #D2E3FC;\n",
              "      --hover-bg-color: #434B5C;\n",
              "      --hover-fill-color: #FFFFFF;\n",
              "      --disabled-bg-color: #3B4455;\n",
              "      --disabled-fill-color: #666;\n",
              "  }\n",
              "\n",
              "  .colab-df-quickchart {\n",
              "    background-color: var(--bg-color);\n",
              "    border: none;\n",
              "    border-radius: 50%;\n",
              "    cursor: pointer;\n",
              "    display: none;\n",
              "    fill: var(--fill-color);\n",
              "    height: 32px;\n",
              "    padding: 0;\n",
              "    width: 32px;\n",
              "  }\n",
              "\n",
              "  .colab-df-quickchart:hover {\n",
              "    background-color: var(--hover-bg-color);\n",
              "    box-shadow: 0 1px 2px rgba(60, 64, 67, 0.3), 0 1px 3px 1px rgba(60, 64, 67, 0.15);\n",
              "    fill: var(--button-hover-fill-color);\n",
              "  }\n",
              "\n",
              "  .colab-df-quickchart-complete:disabled,\n",
              "  .colab-df-quickchart-complete:disabled:hover {\n",
              "    background-color: var(--disabled-bg-color);\n",
              "    fill: var(--disabled-fill-color);\n",
              "    box-shadow: none;\n",
              "  }\n",
              "\n",
              "  .colab-df-spinner {\n",
              "    border: 2px solid var(--fill-color);\n",
              "    border-color: transparent;\n",
              "    border-bottom-color: var(--fill-color);\n",
              "    animation:\n",
              "      spin 1s steps(1) infinite;\n",
              "  }\n",
              "\n",
              "  @keyframes spin {\n",
              "    0% {\n",
              "      border-color: transparent;\n",
              "      border-bottom-color: var(--fill-color);\n",
              "      border-left-color: var(--fill-color);\n",
              "    }\n",
              "    20% {\n",
              "      border-color: transparent;\n",
              "      border-left-color: var(--fill-color);\n",
              "      border-top-color: var(--fill-color);\n",
              "    }\n",
              "    30% {\n",
              "      border-color: transparent;\n",
              "      border-left-color: var(--fill-color);\n",
              "      border-top-color: var(--fill-color);\n",
              "      border-right-color: var(--fill-color);\n",
              "    }\n",
              "    40% {\n",
              "      border-color: transparent;\n",
              "      border-right-color: var(--fill-color);\n",
              "      border-top-color: var(--fill-color);\n",
              "    }\n",
              "    60% {\n",
              "      border-color: transparent;\n",
              "      border-right-color: var(--fill-color);\n",
              "    }\n",
              "    80% {\n",
              "      border-color: transparent;\n",
              "      border-right-color: var(--fill-color);\n",
              "      border-bottom-color: var(--fill-color);\n",
              "    }\n",
              "    90% {\n",
              "      border-color: transparent;\n",
              "      border-bottom-color: var(--fill-color);\n",
              "    }\n",
              "  }\n",
              "</style>\n",
              "\n",
              "  <script>\n",
              "    async function quickchart(key) {\n",
              "      const quickchartButtonEl =\n",
              "        document.querySelector('#' + key + ' button');\n",
              "      quickchartButtonEl.disabled = true;  // To prevent multiple clicks.\n",
              "      quickchartButtonEl.classList.add('colab-df-spinner');\n",
              "      try {\n",
              "        const charts = await google.colab.kernel.invokeFunction(\n",
              "            'suggestCharts', [key], {});\n",
              "      } catch (error) {\n",
              "        console.error('Error during call to suggestCharts:', error);\n",
              "      }\n",
              "      quickchartButtonEl.classList.remove('colab-df-spinner');\n",
              "      quickchartButtonEl.classList.add('colab-df-quickchart-complete');\n",
              "    }\n",
              "    (() => {\n",
              "      let quickchartButtonEl =\n",
              "        document.querySelector('#df-90fd78af-4687-4de5-bbac-cf19b7938734 button');\n",
              "      quickchartButtonEl.style.display =\n",
              "        google.colab.kernel.accessAllowed ? 'block' : 'none';\n",
              "    })();\n",
              "  </script>\n",
              "</div>\n",
              "\n",
              "  <div id=\"id_dc1025d0-9bc9-46e5-b9e0-fe220593e4ee\">\n",
              "    <style>\n",
              "      .colab-df-generate {\n",
              "        background-color: #E8F0FE;\n",
              "        border: none;\n",
              "        border-radius: 50%;\n",
              "        cursor: pointer;\n",
              "        display: none;\n",
              "        fill: #1967D2;\n",
              "        height: 32px;\n",
              "        padding: 0 0 0 0;\n",
              "        width: 32px;\n",
              "      }\n",
              "\n",
              "      .colab-df-generate:hover {\n",
              "        background-color: #E2EBFA;\n",
              "        box-shadow: 0px 1px 2px rgba(60, 64, 67, 0.3), 0px 1px 3px 1px rgba(60, 64, 67, 0.15);\n",
              "        fill: #174EA6;\n",
              "      }\n",
              "\n",
              "      [theme=dark] .colab-df-generate {\n",
              "        background-color: #3B4455;\n",
              "        fill: #D2E3FC;\n",
              "      }\n",
              "\n",
              "      [theme=dark] .colab-df-generate:hover {\n",
              "        background-color: #434B5C;\n",
              "        box-shadow: 0px 1px 3px 1px rgba(0, 0, 0, 0.15);\n",
              "        filter: drop-shadow(0px 1px 2px rgba(0, 0, 0, 0.3));\n",
              "        fill: #FFFFFF;\n",
              "      }\n",
              "    </style>\n",
              "    <button class=\"colab-df-generate\" onclick=\"generateWithVariable('ecom')\"\n",
              "            title=\"Generate code using this dataframe.\"\n",
              "            style=\"display:none;\">\n",
              "\n",
              "  <svg xmlns=\"http://www.w3.org/2000/svg\" height=\"24px\"viewBox=\"0 0 24 24\"\n",
              "       width=\"24px\">\n",
              "    <path d=\"M7,19H8.4L18.45,9,17,7.55,7,17.6ZM5,21V16.75L18.45,3.32a2,2,0,0,1,2.83,0l1.4,1.43a1.91,1.91,0,0,1,.58,1.4,1.91,1.91,0,0,1-.58,1.4L9.25,21ZM18.45,9,17,7.55Zm-12,3A5.31,5.31,0,0,0,4.9,8.1,5.31,5.31,0,0,0,1,6.5,5.31,5.31,0,0,0,4.9,4.9,5.31,5.31,0,0,0,6.5,1,5.31,5.31,0,0,0,8.1,4.9,5.31,5.31,0,0,0,12,6.5,5.46,5.46,0,0,0,6.5,12Z\"/>\n",
              "  </svg>\n",
              "    </button>\n",
              "    <script>\n",
              "      (() => {\n",
              "      const buttonEl =\n",
              "        document.querySelector('#id_dc1025d0-9bc9-46e5-b9e0-fe220593e4ee button.colab-df-generate');\n",
              "      buttonEl.style.display =\n",
              "        google.colab.kernel.accessAllowed ? 'block' : 'none';\n",
              "\n",
              "      buttonEl.onclick = () => {\n",
              "        google.colab.notebook.generateWithVariable('ecom');\n",
              "      }\n",
              "      })();\n",
              "    </script>\n",
              "  </div>\n",
              "\n",
              "    </div>\n",
              "  </div>\n"
            ],
            "application/vnd.google.colaboratory.intrinsic+json": {
              "type": "dataframe",
              "variable_name": "ecom",
              "summary": "{\n  \"name\": \"ecom\",\n  \"rows\": 42037,\n  \"fields\": [\n    {\n      \"column\": \"id\",\n      \"properties\": {\n        \"dtype\": \"number\",\n        \"std\": 28877,\n        \"min\": 4,\n        \"max\": 99998,\n        \"num_unique_values\": 18746,\n        \"samples\": [\n          32978,\n          99257,\n          30039\n        ],\n        \"semantic_type\": \"\",\n        \"description\": \"\"\n      }\n    },\n    {\n      \"column\": \"country\",\n      \"properties\": {\n        \"dtype\": \"category\",\n        \"num_unique_values\": 13,\n        \"samples\": [\n          \"Poland\",\n          \"Belgium\",\n          \"Brasil\"\n        ],\n        \"semantic_type\": \"\",\n        \"description\": \"\"\n      }\n    },\n    {\n      \"column\": \"nama\",\n      \"properties\": {\n        \"dtype\": \"category\",\n        \"num_unique_values\": 16660,\n        \"samples\": [\n          \"Craig Holmes\",\n          \"Charles Case\",\n          \"Stacey Brown\"\n        ],\n        \"semantic_type\": \"\",\n        \"description\": \"\"\n      }\n    },\n    {\n      \"column\": \"email\",\n      \"properties\": {\n        \"dtype\": \"category\",\n        \"num_unique_values\": 17939,\n        \"samples\": [\n          \"peterlee@example.net\",\n          \"melodywerner@example.com\",\n          \"troyramirez@example.com\"\n        ],\n        \"semantic_type\": \"\",\n        \"description\": \"\"\n      }\n    },\n    {\n      \"column\": \"order_id\",\n      \"properties\": {\n        \"dtype\": \"number\",\n        \"std\": 36096,\n        \"min\": 5,\n        \"max\": 124992,\n        \"num_unique_values\": 29208,\n        \"samples\": [\n          100665,\n          97696,\n          27708\n        ],\n        \"semantic_type\": \"\",\n        \"description\": \"\"\n      }\n    },\n    {\n      \"column\": \"order_date\",\n      \"properties\": {\n        \"dtype\": \"object\",\n        \"num_unique_values\": 1893,\n        \"samples\": [\n          \"2021-07-28\",\n          \"2024-03-05\",\n          \"2022-07-01\"\n        ],\n        \"semantic_type\": \"\",\n        \"description\": \"\"\n      }\n    },\n    {\n      \"column\": \"traffic_source\",\n      \"properties\": {\n        \"dtype\": \"category\",\n        \"num_unique_values\": 5,\n        \"samples\": [\n          \"Email\",\n          \"Display\",\n          \"Facebook\"\n        ],\n        \"semantic_type\": \"\",\n        \"description\": \"\"\n      }\n    },\n    {\n      \"column\": \"category_product\",\n      \"properties\": {\n        \"dtype\": \"category\",\n        \"num_unique_values\": 26,\n        \"samples\": [\n          \"Pants\",\n          \"Accessories\",\n          \"Sleep & Lounge\"\n        ],\n        \"semantic_type\": \"\",\n        \"description\": \"\"\n      }\n    },\n    {\n      \"column\": \"nama_product\",\n      \"properties\": {\n        \"dtype\": \"string\",\n        \"num_unique_values\": 21098,\n        \"samples\": [\n          \"Kenneth Cole Men's Military Stripe Shirt\",\n          \"Degrees by 180'S Mens Black Fleece Ear Warmers\",\n          \"Braza Petal Tops Nipple Covers Style 1140P\"\n        ],\n        \"semantic_type\": \"\",\n        \"description\": \"\"\n      }\n    },\n    {\n      \"column\": \"department_product\",\n      \"properties\": {\n        \"dtype\": \"category\",\n        \"num_unique_values\": 2,\n        \"samples\": [\n          \"Women\",\n          \"Men\"\n        ],\n        \"semantic_type\": \"\",\n        \"description\": \"\"\n      }\n    },\n    {\n      \"column\": \"brand\",\n      \"properties\": {\n        \"dtype\": \"category\",\n        \"num_unique_values\": 2532,\n        \"samples\": [\n          \"Duck Commander\",\n          \"Zinke\"\n        ],\n        \"semantic_type\": \"\",\n        \"description\": \"\"\n      }\n    },\n    {\n      \"column\": \"age\",\n      \"properties\": {\n        \"dtype\": \"number\",\n        \"std\": 17,\n        \"min\": 12,\n        \"max\": 70,\n        \"num_unique_values\": 59,\n        \"samples\": [\n          60,\n          63\n        ],\n        \"semantic_type\": \"\",\n        \"description\": \"\"\n      }\n    },\n    {\n      \"column\": \"gender\",\n      \"properties\": {\n        \"dtype\": \"category\",\n        \"num_unique_values\": 2,\n        \"samples\": [\n          \"F\",\n          \"M\"\n        ],\n        \"semantic_type\": \"\",\n        \"description\": \"\"\n      }\n    },\n    {\n      \"column\": \"status_order\",\n      \"properties\": {\n        \"dtype\": \"category\",\n        \"num_unique_values\": 5,\n        \"samples\": [\n          \"Cancelled\",\n          \"Complete\"\n        ],\n        \"semantic_type\": \"\",\n        \"description\": \"\"\n      }\n    },\n    {\n      \"column\": \"registered_date\",\n      \"properties\": {\n        \"dtype\": \"object\",\n        \"num_unique_values\": 2004,\n        \"samples\": [\n          \"2020-09-28\",\n          \"2022-06-13\"\n        ],\n        \"semantic_type\": \"\",\n        \"description\": \"\"\n      }\n    },\n    {\n      \"column\": \"revenue\",\n      \"properties\": {\n        \"dtype\": \"number\",\n        \"std\": 155.923188637811,\n        \"min\": 0.0,\n        \"max\": 3960.0,\n        \"num_unique_values\": 783,\n        \"samples\": [\n          1516.0,\n          331.0\n        ],\n        \"semantic_type\": \"\",\n        \"description\": \"\"\n      }\n    }\n  ]\n}"
            }
          },
          "metadata": {},
          "execution_count": 23
        }
      ]
    },
    {
      "cell_type": "markdown",
      "source": [
        "**Pertanyaan 1**\n",
        "\n",
        "Berapa total pendapatan TheLook Ecommerce yang diterima?"
      ],
      "metadata": {
        "id": "dtmGR6QMFYCy"
      }
    },
    {
      "cell_type": "code",
      "execution_count": 24,
      "metadata": {
        "colab": {
          "base_uri": "https://localhost:8080/"
        },
        "id": "2SquiDe2h6Nb",
        "outputId": "ba8513d2-1102-475f-8699-8c3e4a8b2f09"
      },
      "outputs": [
        {
          "output_type": "execute_result",
          "data": {
            "text/plain": [
              "4697897.0"
            ]
          },
          "metadata": {},
          "execution_count": 24
        }
      ],
      "source": [
        "ecom['revenue'].sum()"
      ]
    },
    {
      "cell_type": "markdown",
      "source": [
        "**Pertanyaan 2**\n",
        "\n",
        "Berapa jumlah customer yang dimiliki oleh TheLook Ecommerce?"
      ],
      "metadata": {
        "id": "ptKq36r6Fo6-"
      }
    },
    {
      "cell_type": "code",
      "source": [
        "total_customers = ecom['nama'].nunique()\n",
        "print(total_customers)"
      ],
      "metadata": {
        "colab": {
          "base_uri": "https://localhost:8080/"
        },
        "id": "FlHd6doCDSJ5",
        "outputId": "919ad09e-9caa-4743-e5ab-80b4dd1e6c6a"
      },
      "execution_count": 25,
      "outputs": [
        {
          "output_type": "stream",
          "name": "stdout",
          "text": [
            "16660\n"
          ]
        }
      ]
    },
    {
      "cell_type": "markdown",
      "source": [
        "**Pertanyaan 3**\n",
        "\n",
        "Berapa jumlah order yang dimiliki oleh TheLook Ecommerce?"
      ],
      "metadata": {
        "id": "fBz6BzjgFyXM"
      }
    },
    {
      "cell_type": "code",
      "source": [
        "total_orders = ecom['order_id'].nunique()\n",
        "print(total_orders)"
      ],
      "metadata": {
        "colab": {
          "base_uri": "https://localhost:8080/"
        },
        "id": "s-EuoB8YD8Kp",
        "outputId": "d15eae34-84bc-4c76-fcc7-562d29e4af95"
      },
      "execution_count": 26,
      "outputs": [
        {
          "output_type": "stream",
          "name": "stdout",
          "text": [
            "29208\n"
          ]
        }
      ]
    },
    {
      "cell_type": "markdown",
      "source": [
        "**Pertanyaan 4**\n",
        "\n",
        "Berapa jumlah lost order opportunity yang dimliki TheLook Ecommerce?"
      ],
      "metadata": {
        "id": "uM-gmuZgF4cL"
      }
    },
    {
      "cell_type": "code",
      "source": [
        "ecom[(ecom['status_order']=='Cancelled') | (ecom['status_order']=='Returned')].status_order.value_counts()"
      ],
      "metadata": {
        "colab": {
          "base_uri": "https://localhost:8080/",
          "height": 178
        },
        "id": "uZoqrSB7EMER",
        "outputId": "a0760a2f-a208-4364-c17c-7544116962a4"
      },
      "execution_count": 27,
      "outputs": [
        {
          "output_type": "execute_result",
          "data": {
            "text/plain": [
              "status_order\n",
              "Cancelled    6384\n",
              "Returned     4299\n",
              "Name: count, dtype: int64"
            ],
            "text/html": [
              "<div>\n",
              "<style scoped>\n",
              "    .dataframe tbody tr th:only-of-type {\n",
              "        vertical-align: middle;\n",
              "    }\n",
              "\n",
              "    .dataframe tbody tr th {\n",
              "        vertical-align: top;\n",
              "    }\n",
              "\n",
              "    .dataframe thead th {\n",
              "        text-align: right;\n",
              "    }\n",
              "</style>\n",
              "<table border=\"1\" class=\"dataframe\">\n",
              "  <thead>\n",
              "    <tr style=\"text-align: right;\">\n",
              "      <th></th>\n",
              "      <th>count</th>\n",
              "    </tr>\n",
              "    <tr>\n",
              "      <th>status_order</th>\n",
              "      <th></th>\n",
              "    </tr>\n",
              "  </thead>\n",
              "  <tbody>\n",
              "    <tr>\n",
              "      <th>Cancelled</th>\n",
              "      <td>6384</td>\n",
              "    </tr>\n",
              "    <tr>\n",
              "      <th>Returned</th>\n",
              "      <td>4299</td>\n",
              "    </tr>\n",
              "  </tbody>\n",
              "</table>\n",
              "</div><br><label><b>dtype:</b> int64</label>"
            ]
          },
          "metadata": {},
          "execution_count": 27
        }
      ]
    },
    {
      "cell_type": "markdown",
      "source": [
        "**Pertanyaan 5**\n",
        "\n",
        "Bagaimana tren pendapatan pertahun yang dimiliki TheLook Ecommerce?\n",
        "\n",
        "*Catatan: untuk menjawab pertanyaan ini akan dibuat  plot*"
      ],
      "metadata": {
        "id": "gTs3DiWdGaJ9"
      }
    },
    {
      "cell_type": "code",
      "source": [
        "#menginstall dan mengaktifkan library matplotlib\n",
        "import matplotlib.pyplot as plt\n",
        "import seaborn as sns\n",
        "import pandas as pd"
      ],
      "metadata": {
        "id": "x5hZcB_REn4i"
      },
      "execution_count": 28,
      "outputs": []
    },
    {
      "cell_type": "code",
      "source": [
        "##Mengekstrak tahun dalam kolom registered_date\n",
        "# 1. Mengubah data type pada kolom registered_date\n",
        "ecom['registered_date'] = pd.to_datetime(ecom['registered_date'])\n",
        "\n",
        "# 2. Menambahkan kolom tahun berdasarkan kolom registered_date\n",
        "ecom['tahun'] = ecom['registered_date'].dt.year\n",
        "\n",
        "# 3. Melihat hasil ekstraksi\n",
        "print(ecom[['registered_date', 'tahun']].head())"
      ],
      "metadata": {
        "colab": {
          "base_uri": "https://localhost:8080/"
        },
        "id": "wdebAmDaGPp1",
        "outputId": "9251b1d3-1046-4e36-f224-2f4852d50c3d"
      },
      "execution_count": 29,
      "outputs": [
        {
          "output_type": "stream",
          "name": "stdout",
          "text": [
            "  registered_date  tahun\n",
            "0      2022-09-10   2022\n",
            "1      2022-09-10   2022\n",
            "2      2022-09-10   2022\n",
            "3      2022-09-10   2022\n",
            "4      2019-09-08   2019\n"
          ]
        }
      ]
    },
    {
      "cell_type": "code",
      "source": [
        "# Grouping data berdasarkan tahun dan menjumlahkan revenue di setiap tahun\n",
        "ecom_per_year = ecom.groupby('tahun')['revenue'].sum().reset_index()\n",
        "print(ecom_per_year)"
      ],
      "metadata": {
        "colab": {
          "base_uri": "https://localhost:8080/"
        },
        "id": "rMGYrgeUIvU5",
        "outputId": "ca229aff-cffc-44cd-eff7-71f2cd32184a"
      },
      "execution_count": 37,
      "outputs": [
        {
          "output_type": "stream",
          "name": "stdout",
          "text": [
            "   tahun   revenue\n",
            "0   2019  855339.0\n",
            "1   2020  838852.0\n",
            "2   2021  865179.0\n",
            "3   2022  840499.0\n",
            "4   2023  791365.0\n",
            "5   2024  506663.0\n"
          ]
        }
      ]
    },
    {
      "cell_type": "code",
      "source": [
        "#Menyaring tahun hanya sampai 2023 saja karena 2024 belum usai\n",
        "ecom_per_year_filtered = ecom_per_year[ecom_per_year['tahun'] <= 2023]\n",
        "\n",
        "# Membuat plot\n",
        "plt.figure(figsize=(10,6))\n",
        "sns.regplot(x='tahun', y='revenue', data=ecom_per_year_filtered, scatter_kws={\"s\": 100}, line_kws={\"color\": \"red\"})\n",
        "plt.title('Tren Pendapatan Pertahun - TheLook Ecommerce')\n",
        "plt.xlabel('Tahun')\n",
        "plt.ylabel('Pendapatan')\n",
        "\n",
        "# Menampilkan plot\n",
        "plt.show()"
      ],
      "metadata": {
        "colab": {
          "base_uri": "https://localhost:8080/",
          "height": 409
        },
        "id": "i-qlUArII_Ja",
        "outputId": "ab1a99c8-42c7-4fae-9141-f6253e8fc2c3"
      },
      "execution_count": 38,
      "outputs": [
        {
          "output_type": "display_data",
          "data": {
            "text/plain": [
              "<Figure size 1000x600 with 1 Axes>"
            ],
            "image/png": "[encoded data removed]"
          },
          "metadata": {}
        }
      ]
    },
    {
      "cell_type": "markdown",
      "source": [
        "**Pertanyaan 6**\n",
        "\n",
        "Bagaimana performance traffic source yang dimiliki oleh TheLook E-Commerce?"
      ],
      "metadata": {
        "id": "ZnY1fEowIucW"
      }
    },
    {
      "cell_type": "code",
      "source": [
        "# Menghitung total pendapatan per traffic source\n",
        "traffic_source = ecom.groupby('traffic_source')['revenue'].sum()\n",
        "\n",
        "# Membuat bar chart\n",
        "plt.bar(traffic_source.index, traffic_source.values)\n",
        "plt.title('Total Pendapatan per Traffic Source')\n",
        "plt.xlabel('Traffic Source')\n",
        "plt.ylabel('Total Pendapatan')\n",
        "\n",
        "# Menampilkan plot\n",
        "plt.show()"
      ],
      "metadata": {
        "colab": {
          "base_uri": "https://localhost:8080/",
          "height": 472
        },
        "id": "B8tPSx9lLcgW",
        "outputId": "bf551db0-b8f5-43a2-c0ce-aa00b6dd1a9d"
      },
      "execution_count": 32,
      "outputs": [
        {
          "output_type": "display_data",
          "data": {
            "text/plain": [
              "<Figure size 640x480 with 1 Axes>"
            ],
            "image/png": "[encoded data removed]"
          },
          "metadata": {}
        }
      ]
    },
    {
      "cell_type": "code",
      "source": [
        "# Menghitung total jumlah order per traffic source\n",
        "jumlah_order = ecom.groupby('traffic_source')['order_id'].nunique()\n",
        "\n",
        "# Membuat bar chart\n",
        "plt.bar(jumlah_order.index, jumlah_order.values)\n",
        "plt.title('Jumlah Order per Traffic Source')\n",
        "plt.xlabel('Traffic Source')\n",
        "plt.ylabel('Jumlah Order')\n",
        "\n",
        "# Menampilkan plot\n",
        "plt.show()"
      ],
      "metadata": {
        "colab": {
          "base_uri": "https://localhost:8080/",
          "height": 472
        },
        "id": "xwGn44CtN0U8",
        "outputId": "b81ff2f4-de5c-4339-edd9-eee6e3a813eb"
      },
      "execution_count": 33,
      "outputs": [
        {
          "output_type": "display_data",
          "data": {
            "text/plain": [
              "<Figure size 640x480 with 1 Axes>"
            ],
            "image/png": "[encoded data removed]"
          },
          "metadata": {}
        }
      ]
    },
    {
      "cell_type": "code",
      "source": [
        "# Menghitung total jumlah customer per traffic source\n",
        "jumlah_customer = ecom.groupby('traffic_source')['nama'].nunique()\n",
        "\n",
        "# Membuat bar chart\n",
        "plt.bar(jumlah_customer.index, jumlah_customer.values)\n",
        "plt.title('Jumlah Customer per Traffic Source')\n",
        "plt.xlabel('Traffic Source')\n",
        "plt.ylabel('Jumlah Customer')\n",
        "\n",
        "# Menampilkan plot\n",
        "plt.show()"
      ],
      "metadata": {
        "colab": {
          "base_uri": "https://localhost:8080/",
          "height": 472
        },
        "id": "nmCnEL5OOI20",
        "outputId": "0cea0e8d-7839-4284-e59f-1c12378552b7"
      },
      "execution_count": 34,
      "outputs": [
        {
          "output_type": "display_data",
          "data": {
            "text/plain": [
              "<Figure size 640x480 with 1 Axes>"
            ],
            "image/png": "[encoded data removed]"
          },
          "metadata": {}
        }
      ]
    },
    {
      "cell_type": "markdown",
      "source": [
        "**Pertanyaan 7**\n",
        "\n",
        "Apa top 5 product category berdasarkan jumlah order di TheLook Ecommerce?"
      ],
      "metadata": {
        "id": "8GYAYpE1OVzn"
      }
    },
    {
      "cell_type": "code",
      "source": [
        "top_product_categ = ecom['category_product'].value_counts()\n",
        "top5 = top_product_categ.head(5)\n",
        "top5"
      ],
      "metadata": {
        "colab": {
          "base_uri": "https://localhost:8080/",
          "height": 272
        },
        "id": "_0yl8JBXOUcG",
        "outputId": "4a8fd814-00e2-4db1-b95b-0490f6d1d1db"
      },
      "execution_count": 35,
      "outputs": [
        {
          "output_type": "execute_result",
          "data": {
            "text/plain": [
              "category_product\n",
              "Intimates                        3105\n",
              "Jeans                            2927\n",
              "Tops & Tees                      2743\n",
              "Fashion Hoodies & Sweatshirts    2739\n",
              "Sleep & Lounge                   2627\n",
              "Name: count, dtype: int64"
            ],
            "text/html": [
              "<div>\n",
              "<style scoped>\n",
              "    .dataframe tbody tr th:only-of-type {\n",
              "        vertical-align: middle;\n",
              "    }\n",
              "\n",
              "    .dataframe tbody tr th {\n",
              "        vertical-align: top;\n",
              "    }\n",
              "\n",
              "    .dataframe thead th {\n",
              "        text-align: right;\n",
              "    }\n",
              "</style>\n",
              "<table border=\"1\" class=\"dataframe\">\n",
              "  <thead>\n",
              "    <tr style=\"text-align: right;\">\n",
              "      <th></th>\n",
              "      <th>count</th>\n",
              "    </tr>\n",
              "    <tr>\n",
              "      <th>category_product</th>\n",
              "      <th></th>\n",
              "    </tr>\n",
              "  </thead>\n",
              "  <tbody>\n",
              "    <tr>\n",
              "      <th>Intimates</th>\n",
              "      <td>3105</td>\n",
              "    </tr>\n",
              "    <tr>\n",
              "      <th>Jeans</th>\n",
              "      <td>2927</td>\n",
              "    </tr>\n",
              "    <tr>\n",
              "      <th>Tops &amp; Tees</th>\n",
              "      <td>2743</td>\n",
              "    </tr>\n",
              "    <tr>\n",
              "      <th>Fashion Hoodies &amp; Sweatshirts</th>\n",
              "      <td>2739</td>\n",
              "    </tr>\n",
              "    <tr>\n",
              "      <th>Sleep &amp; Lounge</th>\n",
              "      <td>2627</td>\n",
              "    </tr>\n",
              "  </tbody>\n",
              "</table>\n",
              "</div><br><label><b>dtype:</b> int64</label>"
            ]
          },
          "metadata": {},
          "execution_count": 35
        }
      ]
    },
    {
      "cell_type": "markdown",
      "source": [
        "**Pertanyaan 8**\n",
        "\n",
        "Apa top 5 negara berdasarkan hasil pendapatan TheLook Ecommerce?"
      ],
      "metadata": {
        "id": "lnVaki5GOyhv"
      }
    },
    {
      "cell_type": "code",
      "source": [
        "# Menghitung total pendapatan per negara\n",
        "country_revenue = ecom.groupby('country')['revenue'].sum()\n",
        "\n",
        "# Mengurutkan top 5 negara berdasarkan pendapatan terbanyak\n",
        "top_5_countries = country_revenue.sort_values(ascending=False).head(5)\n",
        "\n",
        "# Menampilkan hasil\n",
        "top_5_countries\n"
      ],
      "metadata": {
        "colab": {
          "base_uri": "https://localhost:8080/",
          "height": 272
        },
        "id": "OToAasViO5m3",
        "outputId": "57d8849d-2874-43d3-adc4-cc0e85fbfb82"
      },
      "execution_count": 36,
      "outputs": [
        {
          "output_type": "execute_result",
          "data": {
            "text/plain": [
              "country\n",
              "United States     1085099.0\n",
              "Brasil             792651.0\n",
              "China              681506.0\n",
              "United Kingdom     678139.0\n",
              "Spain              648705.0\n",
              "Name: revenue, dtype: float64"
            ],
            "text/html": [
              "<div>\n",
              "<style scoped>\n",
              "    .dataframe tbody tr th:only-of-type {\n",
              "        vertical-align: middle;\n",
              "    }\n",
              "\n",
              "    .dataframe tbody tr th {\n",
              "        vertical-align: top;\n",
              "    }\n",
              "\n",
              "    .dataframe thead th {\n",
              "        text-align: right;\n",
              "    }\n",
              "</style>\n",
              "<table border=\"1\" class=\"dataframe\">\n",
              "  <thead>\n",
              "    <tr style=\"text-align: right;\">\n",
              "      <th></th>\n",
              "      <th>revenue</th>\n",
              "    </tr>\n",
              "    <tr>\n",
              "      <th>country</th>\n",
              "      <th></th>\n",
              "    </tr>\n",
              "  </thead>\n",
              "  <tbody>\n",
              "    <tr>\n",
              "      <th>United States</th>\n",
              "      <td>1085099.0</td>\n",
              "    </tr>\n",
              "    <tr>\n",
              "      <th>Brasil</th>\n",
              "      <td>792651.0</td>\n",
              "    </tr>\n",
              "    <tr>\n",
              "      <th>China</th>\n",
              "      <td>681506.0</td>\n",
              "    </tr>\n",
              "    <tr>\n",
              "      <th>United Kingdom</th>\n",
              "      <td>678139.0</td>\n",
              "    </tr>\n",
              "    <tr>\n",
              "      <th>Spain</th>\n",
              "      <td>648705.0</td>\n",
              "    </tr>\n",
              "  </tbody>\n",
              "</table>\n",
              "</div><br><label><b>dtype:</b> float64</label>"
            ]
          },
          "metadata": {},
          "execution_count": 36
        }
      ]
    }
  ]
}